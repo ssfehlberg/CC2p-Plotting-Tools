{
 "cells": [
  {
   "cell_type": "code",
   "execution_count": 1,
   "metadata": {},
   "outputs": [
    {
     "name": "stdout",
     "output_type": "stream",
     "text": [
      "Welcome to JupyROOT 6.18/00\n"
     ]
    }
   ],
   "source": [
    "import numpy as np\n",
    "from matplotlib import rc\n",
    "import matplotlib.pyplot as plt\n",
    "import os,sys\n",
    "#from IPython.core.display import display, Latex, Math\n",
    "# display(HTML(\"<style>.container { width:100% !important; }</style>\"))\n",
    "import ROOT"
   ]
  },
  {
   "cell_type": "code",
   "execution_count": 2,
   "metadata": {},
   "outputs": [],
   "source": [
    "#Stuff I will use for all the Hisstograms\n",
    "#########################################\n",
    "sample_name=\"#scale[0.6]{MicroBooNE Preliminary}\";\n",
    "pot_char=\"#scale[0.6]{Runs 1+2+3 Accumulated POT: 6.79e+20}\"\n",
    "pot_num = 6.79E+20\n",
    "t = ROOT.TLatex()\n",
    "ROOT.gStyle.SetPaintTextFormat(\"4.2f\")\n",
    "ROOT.gStyle.SetHistMinimumZero(ROOT.kTRUE)\n",
    "ROOT.gStyle.SetOptStat(0)\n",
    "#ROOT.gStyle.SetHistMinimumZero(ROOT.kFALSE)\n",
    "t.SetNDC();\n",
    "t.SetTextAlign(22);"
   ]
  },
  {
   "cell_type": "code",
   "execution_count": 3,
   "metadata": {},
   "outputs": [
    {
     "name": "stdout",
     "output_type": "stream",
     "text": [
      "!!!!!!!Finished Grabbing All the Histograms!!!!!!!!!\n"
     ]
    }
   ],
   "source": [
    "detVar_samples = [\"detVar_CV\", \"detVar_dEdx\",\"detVar_LY_Attenuation\",\n",
    "                  \"detVar_LY_Down\",\"detVar_LY_Rayleigh\",\"detVar_Overlay\",\n",
    "                  \"detVar_Recombination\",\"detVar_SCE\",\"detVar_ThetaXZ\", \n",
    "                  \"detVar_ThetaYZ\",\"detVar_X\",\"detVar_YZ\"]\n",
    "\n",
    "var = [\"_mom\",\"_costheta\",\"_phi\"]\n",
    "var0 = [\"_mom\",\"_theta\",\"_phi\"]\n",
    "other_var = [\"_opening_angle_protons_lab\",\"_opening_angle_protons_com\",\"_opening_angle_mu_leading\",\n",
    "             \"_opening_angle_mu_both\",\"_delta_PT\",\"_delta_alphaT\",\"_delta_phiT\",\"_pn\",\"_nu_E\"]\n",
    "\n",
    "x = int(12)\n",
    "y = int(3)\n",
    "y0 = int(9)\n",
    "h_detVar_muon = [[0 for row in range(0,y)] for col in range(0,x)]\n",
    "h_detVar_leading = [[0 for row in range(0,y)] for col in range(0,x)]\n",
    "h_detVar_recoil = [[0 for row in range(0,y)] for col in range(0,x)]\n",
    "h_detVar_other = [[0 for row in range(0,y0)] for col in range(0,x)]\n",
    "\n",
    "#Grabbing the particle histograms\n",
    "for i in range(0,len(detVar_samples)):\n",
    "    file = ROOT.TFile(\"/Users/ssfehlberg/Research/Thesis/2Proton_Pandora/Systematics/root_files/pelee/detVar/histograms_pelee_%s.root\"%detVar_samples[i])\n",
    "    \n",
    "    for j in range(0,len(var0)):\n",
    "        h_detVar_muon[i][j] = file.Get(\"h_muon%s_total\"%var0[j])\n",
    "        h_detVar_leading[i][j] = file.Get(\"h_leading%s_total\"%var0[j])\n",
    "        h_detVar_recoil[i][j] = file.Get(\"h_recoil%s_total\"%var0[j])\n",
    "\n",
    "              \n",
    "#Now to Grab the Other histograms\n",
    "###############################\n",
    "for i in range(0,len(detVar_samples)):\n",
    "    file = ROOT.TFile(\"/Users/ssfehlberg/Research/Thesis/2Proton_Pandora/Systematics/root_files/pelee/detVar/histograms_pelee_%s.root\"%detVar_samples[i])\n",
    "    \n",
    "    for j in range(0,len(other_var)):  \n",
    "        h_detVar_other[i][j] = file.Get(\"h%s_total\"%other_var[j])\n",
    "    \n",
    "print(\"!!!!!!!Finished Grabbing All the Histograms!!!!!!!!!\")"
   ]
  },
  {
   "cell_type": "code",
   "execution_count": null,
   "metadata": {},
   "outputs": [],
   "source": []
  },
  {
   "cell_type": "code",
   "execution_count": null,
   "metadata": {},
   "outputs": [],
   "source": [
    "def area_normalize(hist):\n",
    "    n_bins = hist.GetNbinsX()\n",
    "    hist_integral = hist.Integral()\n",
    "\n",
    "    for i in range(1,n_bins+1):\n",
    "        hist_bin_content = hist.GetBinContent(i)\n",
    "        hist_value = hist_bin_content/hist_integral\n",
    "        hist.SetBinContent(i,hist_value)"
   ]
  },
  {
   "cell_type": "code",
   "execution_count": 1,
   "metadata": {},
   "outputs": [],
   "source": [
    "def make_plot(hist, title,plot_title):\n",
    "    \n",
    "    #colors to use\n",
    "    color0 = ROOT.kBlack\n",
    "    color1 = ROOT.TColor.GetColor(\"#FFCE54\") #yellow\n",
    "    color2 = ROOT.TColor.GetColor(\"#A0D568\") #green\n",
    "    color3 = ROOT.TColor.GetColor(\"#4FC1E8\") #blue\n",
    "    color4 = ROOT.TColor.GetColor(\"#ED5564\") #red\n",
    "    color5 = ROOT.TColor.GetColor(\"#AC92EB\") #purple\n",
    "\n",
    "    #the canvas\n",
    "    canv = ROOT.TCanvas(\"canv\",\"canv\",1000,700)\n",
    "\n",
    "    #Draw the CV Histogram\n",
    "    hist[0].Draw(\"hist\")\n",
    "    hist[0].SetLineColor(ROOT.kBlack)\n",
    "    hist[0].SetTitle(\"%s\"%title)\n",
    "    hist[0].SetXTitle(\"%s\"%title)\n",
    "    hist[0].GetXaxis().SetTitleSize(28)\n",
    "    hist[0].GetXaxis().SetTitleFont(43)\n",
    "    hist[0].SetYTitle(\"Fractional Uncertainty (%)\")\n",
    "    hist[0].GetYaxis().SetTitleSize(28)\n",
    "    hist[0].GetYaxis().SetTitleFont(43)\n",
    "    hist[0].SetMaximum(100)\n",
    "    hist[0].SetMinimum(-100)\n",
    "\n",
    "    #h_nieves.Draw(\"hist same\")\n",
    "    #h_nieves.SetLineColor(color3)\n",
    "\n",
    "    #h_susa.Draw(\"hist same\")\n",
    "    #h_susa.SetLineColor(color4)\n",
    "\n",
    "    #h_GCF.Draw(\"hist same\")\n",
    "    #h_GCF.SetLineColor(color5)\n",
    "    \n",
    "    \n",
    "    xmin = hist.GetXaxis().GetXmin()\n",
    "    xmax = hist.GetXaxis().GetXmax()\n",
    "    zero_line = ROOT.TLine(xmin,0,xmax,0)\n",
    "    zero_line.Draw(\"same\")\n",
    "    zero_line.SetLineColor(ROOT.kRed)\n",
    "    zero_line.SetLineStyle(1)\n",
    "\n",
    "    legend = ROOT.TLegend(0.57,0.57,0.87,0.87)\n",
    "    legend.AddEntry(hist[0],\"detVar: CV\",\"L\");\n",
    "    #legend.AddEntry()\n",
    "    legend.SetLineWidth(0);\n",
    "    legend.SetFillColor(ROOT.kWhite);\n",
    "    legend.SetTextSize(0.03);\n",
    "    legend.Draw(\"SAME\")\n",
    "\n",
    "    directory = \"/Users/ssfehlberg/Research/Thesis/2Proton_Pandora/Systematics/images/pelee\"\n",
    "    canv.Print(\"%s/%s.png\"%(directory,plot_title))\n",
    "    canv.Draw()"
   ]
  },
  {
   "cell_type": "code",
   "execution_count": 2,
   "metadata": {},
   "outputs": [
    {
     "ename": "NameError",
     "evalue": "name 'h_detVar_muon' is not defined",
     "output_type": "error",
     "traceback": [
      "\u001b[0;31m---------------------------------------------------------------------------\u001b[0m",
      "\u001b[0;31mNameError\u001b[0m                                 Traceback (most recent call last)",
      "\u001b[0;32m<ipython-input-2-cc44fe8c4ea1>\u001b[0m in \u001b[0;36m<module>\u001b[0;34m\u001b[0m\n\u001b[1;32m      6\u001b[0m \u001b[0;34m\u001b[0m\u001b[0m\n\u001b[1;32m      7\u001b[0m \u001b[0;32mfor\u001b[0m \u001b[0mplot\u001b[0m \u001b[0;32min\u001b[0m \u001b[0mrange\u001b[0m\u001b[0;34m(\u001b[0m\u001b[0;36m0\u001b[0m\u001b[0;34m,\u001b[0m\u001b[0;36m3\u001b[0m\u001b[0;34m)\u001b[0m\u001b[0;34m:\u001b[0m\u001b[0;34m\u001b[0m\u001b[0;34m\u001b[0m\u001b[0m\n\u001b[0;32m----> 8\u001b[0;31m     \u001b[0mmake_plot\u001b[0m\u001b[0;34m(\u001b[0m\u001b[0mh_detVar_muon\u001b[0m\u001b[0;34m[\u001b[0m\u001b[0;34m:\u001b[0m\u001b[0;34m]\u001b[0m\u001b[0;34m[\u001b[0m\u001b[0mplot\u001b[0m\u001b[0;34m]\u001b[0m\u001b[0;34m,\u001b[0m \u001b[0mmuon_titles\u001b[0m\u001b[0;34m[\u001b[0m\u001b[0mplot\u001b[0m\u001b[0;34m]\u001b[0m\u001b[0;34m,\u001b[0m\u001b[0mplot_title\u001b[0m\u001b[0;34m[\u001b[0m\u001b[0mplot\u001b[0m\u001b[0;34m]\u001b[0m\u001b[0;34m)\u001b[0m\u001b[0;34m\u001b[0m\u001b[0;34m\u001b[0m\u001b[0m\n\u001b[0m",
      "\u001b[0;31mNameError\u001b[0m: name 'h_detVar_muon' is not defined"
     ]
    }
   ],
   "source": [
    "#MUON PLOTS\n",
    "muon_titles= [r'\\text{Muon Momentum (GeV/c)}',\n",
    "                 r'\\text{Muon cos}(\\theta)',\n",
    "                 r'\\text{Muon }\\phi'] \n",
    "plot_title = [\"muon_mom\",\"muon_theta\",\"muon_phi\"]\n",
    "\n",
    "for plot in range(0,3):\n",
    "    make_plot(h_detVar_muon[:][plot], muon_titles[plot],plot_title[plot])"
   ]
  },
  {
   "cell_type": "code",
   "execution_count": 5,
   "metadata": {},
   "outputs": [
    {
     "ename": "NameError",
     "evalue": "name 'make_plot' is not defined",
     "output_type": "error",
     "traceback": [
      "\u001b[0;31m---------------------------------------------------------------------------\u001b[0m",
      "\u001b[0;31mNameError\u001b[0m                                 Traceback (most recent call last)",
      "\u001b[0;32m<ipython-input-5-e53c71733558>\u001b[0m in \u001b[0;36m<module>\u001b[0;34m\u001b[0m\n\u001b[1;32m      6\u001b[0m \u001b[0;34m\u001b[0m\u001b[0m\n\u001b[1;32m      7\u001b[0m \u001b[0;32mfor\u001b[0m \u001b[0mplot\u001b[0m \u001b[0;32min\u001b[0m \u001b[0mrange\u001b[0m\u001b[0;34m(\u001b[0m\u001b[0;36m0\u001b[0m\u001b[0;34m,\u001b[0m\u001b[0;36m3\u001b[0m\u001b[0;34m)\u001b[0m\u001b[0;34m:\u001b[0m\u001b[0;34m\u001b[0m\u001b[0;34m\u001b[0m\u001b[0m\n\u001b[0;32m----> 8\u001b[0;31m     \u001b[0mmake_plot\u001b[0m\u001b[0;34m(\u001b[0m\u001b[0mh_detVar_CV_leading\u001b[0m\u001b[0;34m[\u001b[0m\u001b[0mplot\u001b[0m\u001b[0;34m]\u001b[0m\u001b[0;34m,\u001b[0m \u001b[0mleading_titles\u001b[0m\u001b[0;34m[\u001b[0m\u001b[0mplot\u001b[0m\u001b[0;34m]\u001b[0m\u001b[0;34m,\u001b[0m \u001b[0mplot_title\u001b[0m\u001b[0;34m[\u001b[0m\u001b[0mplot\u001b[0m\u001b[0;34m]\u001b[0m\u001b[0;34m)\u001b[0m\u001b[0;34m\u001b[0m\u001b[0;34m\u001b[0m\u001b[0m\n\u001b[0m",
      "\u001b[0;31mNameError\u001b[0m: name 'make_plot' is not defined"
     ]
    }
   ],
   "source": [
    "#LEADING PLOTS\n",
    "leading_titles= [r'\\text{Leading Momentum (GeV/c)}',\n",
    "                 r'\\text{Leading cos}(\\theta)',\n",
    "                 r'\\text{Leading }\\phi'] \n",
    "plot_title = [\"leading_mom\",\"leading_theta\",\"leading_phi\"]\n",
    "\n",
    "for plot in range(0,3):\n",
    "    make_plot(h_detVar_CV_leading[plot], leading_titles[plot], plot_title[plot])"
   ]
  },
  {
   "cell_type": "code",
   "execution_count": 6,
   "metadata": {},
   "outputs": [
    {
     "ename": "NameError",
     "evalue": "name 'make_plot' is not defined",
     "output_type": "error",
     "traceback": [
      "\u001b[0;31m---------------------------------------------------------------------------\u001b[0m",
      "\u001b[0;31mNameError\u001b[0m                                 Traceback (most recent call last)",
      "\u001b[0;32m<ipython-input-6-fa9384c4c371>\u001b[0m in \u001b[0;36m<module>\u001b[0;34m\u001b[0m\n\u001b[1;32m      6\u001b[0m \u001b[0;34m\u001b[0m\u001b[0m\n\u001b[1;32m      7\u001b[0m \u001b[0;32mfor\u001b[0m \u001b[0mplot\u001b[0m \u001b[0;32min\u001b[0m \u001b[0mrange\u001b[0m\u001b[0;34m(\u001b[0m\u001b[0;36m0\u001b[0m\u001b[0;34m,\u001b[0m\u001b[0;36m3\u001b[0m\u001b[0;34m)\u001b[0m\u001b[0;34m:\u001b[0m\u001b[0;34m\u001b[0m\u001b[0;34m\u001b[0m\u001b[0m\n\u001b[0;32m----> 8\u001b[0;31m     \u001b[0mmake_plot\u001b[0m\u001b[0;34m(\u001b[0m\u001b[0mh_detVar_CV_recoil\u001b[0m\u001b[0;34m[\u001b[0m\u001b[0mplot\u001b[0m\u001b[0;34m]\u001b[0m\u001b[0;34m,\u001b[0m \u001b[0mleading_titles\u001b[0m\u001b[0;34m[\u001b[0m\u001b[0mplot\u001b[0m\u001b[0;34m]\u001b[0m\u001b[0;34m,\u001b[0m \u001b[0mplot_title\u001b[0m\u001b[0;34m[\u001b[0m\u001b[0mplot\u001b[0m\u001b[0;34m]\u001b[0m\u001b[0;34m)\u001b[0m\u001b[0;34m\u001b[0m\u001b[0;34m\u001b[0m\u001b[0m\n\u001b[0m",
      "\u001b[0;31mNameError\u001b[0m: name 'make_plot' is not defined"
     ]
    }
   ],
   "source": [
    "#RECOIL PLOTS\n",
    "recoil_titles= [r'\\text{Recoil Momentum (GeV/c)}',\n",
    "                 r'\\text{Recoil cos}(\\theta)',\n",
    "                 r'\\text{Recoil }\\phi'] #titles for root\n",
    "plot_title = [\"recoil_mom\",\"recoil_theta\",\"recoil_phi\"]\n",
    "\n",
    "for plot in range(0,3):\n",
    "    make_plot(h_detVar_CV_recoil[plot], leading_titles[plot], plot_title[plot])"
   ]
  },
  {
   "cell_type": "code",
   "execution_count": null,
   "metadata": {},
   "outputs": [],
   "source": []
  }
 ],
 "metadata": {
  "kernelspec": {
   "display_name": "Python 3",
   "language": "python",
   "name": "python3"
  },
  "language_info": {
   "codemirror_mode": {
    "name": "ipython",
    "version": 3
   },
   "file_extension": ".py",
   "mimetype": "text/x-python",
   "name": "python",
   "nbconvert_exporter": "python",
   "pygments_lexer": "ipython3",
   "version": "3.7.4"
  }
 },
 "nbformat": 4,
 "nbformat_minor": 2
}
